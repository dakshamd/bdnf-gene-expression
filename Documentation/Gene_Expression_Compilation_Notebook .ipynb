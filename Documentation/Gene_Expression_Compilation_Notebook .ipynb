{
  "nbformat": 4,
  "nbformat_minor": 0,
  "metadata": {
    "colab": {
      "provenance": []
    },
    "kernelspec": {
      "name": "python3",
      "display_name": "Python 3"
    },
    "language_info": {
      "name": "python"
    }
  },
  "cells": [
    {
      "cell_type": "markdown",
      "source": [
        "# **Conceptual Overview:**\n",
        "This notebook will guide you through the process of compiling and analyzing a subset of gene expression data.\n",
        "\n",
        "## **Purpose:**\n",
        "The purpose of this project is to compile one smaller, more focused, subset of gene expression data from multiple, larger datasets. We are specifically going to be filtering for the **BDNF** gene, which produces brain-derived neurotrophic factor, or BDNF, a protein that is critical for the survival and growth of neurons. BDNF also plays a major role in synaptic efficiency and plasticity, which is the biological basis behind learning and memory.\n",
        "\n",
        "## **Scope:**\n",
        "In this notebook, we are going to compile a smaller subset of gene expression data that targets the **BDNF** gene and how it is expressed across different regions of the brain. The original datasets that we will be working on are taken from the Allen Brain Atlas. We will use Python to prepare our data.\n",
        "\n",
        "## **Major Steps:**\n",
        "1.   Download the original datasets from the Allen Brain Atlas.\n",
        "2.   Mount Google Drive to access uploaded files in Colab and import the necessary Python libraries.\n",
        "3.   Load the datasets (*gene expression*, *brain region*, and *gene name*) using Python.\n",
        "4.   Filter the data for BDNF gene expression only.\n",
        "5.   Analyze and clean the new data.\n",
        "6.   Export the newly compiled subset as a CSV file.\n",
        "\n",
        "\n",
        "\n"
      ],
      "metadata": {
        "id": "oRnzsRlppBnC"
      }
    },
    {
      "cell_type": "markdown",
      "source": [
        "# **Step 1: Downloading the Original Datasets**\n",
        "\n",
        "To begin with, there are three files you will need to access from the Allen Brain Atlas.\n",
        "\n",
        "You can access the datasets from this website: https://neuroinformatics.nl/HBP/ABA_mouse/\n",
        "\n",
        "The three files that you should look for are:\n",
        "\n",
        "1.   ***ABA_expression.csv*** : This is the main file that contains all of the gene expression data.\n",
        "2.   ***ABA_structures.csv*** : This is a supplementary file that contains a mapping of row indices in the main file to brain structures, such as the hippocampus and the amygdala.\n",
        "3.   ***ABA_genes.csv*** : This is another supplementary file that contains a mapping of column indices in the main file to gene names, such as BDNF and SERT.\n",
        "\n",
        "After you have downloaded these three files, upload them to your Google Drive because we will be accessing them directly from there in the next step!"
      ],
      "metadata": {
        "id": "sXmkdRww0MdM"
      }
    },
    {
      "cell_type": "markdown",
      "source": [
        "# **Step 2: Mount Google Drive & Import Python Libraries**\n",
        "\n",
        "In this step, we will be mounting Google Drive into this Colab notebook so that we can read the files you just stored there directly into Python.\n",
        "\n",
        "To do so, run the following code:"
      ],
      "metadata": {
        "id": "dVOE6ulE4fxC"
      }
    },
    {
      "cell_type": "code",
      "execution_count": null,
      "metadata": {
        "colab": {
          "base_uri": "https://localhost:8080/"
        },
        "id": "ErECxSa2MI2T",
        "outputId": "3fed1c15-5022-4b38-ce67-11a9706a26c4"
      },
      "outputs": [
        {
          "output_type": "stream",
          "name": "stdout",
          "text": [
            "Mounted at /content/gdrive\n"
          ]
        }
      ],
      "source": [
        "from google.colab import drive\n",
        "drive.mount('/content/gdrive')"
      ]
    },
    {
      "cell_type": "markdown",
      "source": [
        "After running this code, you will likely be prompted by Google Colab to give it permission to access your Drive. Click on the provided link, log in with your Google account, and allow the necessary permissions. If you succeeded in mounting Google Drive, you should see the message: \"Mounted at /content/gdrive\".\n",
        "\n",
        "Now, we will import the Python libraries necessary for compiling our new subset. The only library necessary for basic data manipulation, which is what we will be doing, is `pandas`.\n",
        "\n",
        "Import `pandas` by running the following code:"
      ],
      "metadata": {
        "id": "VAxdVnLR5zYf"
      }
    },
    {
      "cell_type": "code",
      "source": [
        "import pandas as pd\n"
      ],
      "metadata": {
        "id": "Dl_tBxHXuZyE"
      },
      "execution_count": null,
      "outputs": []
    },
    {
      "cell_type": "markdown",
      "source": [
        "Now that you have mounted your Google Drive and imported `pandas`, we can proceed to the next step: loading the files into Python so that we can begin working with them!"
      ],
      "metadata": {
        "id": "TLeE_hgy8JcV"
      }
    },
    {
      "cell_type": "markdown",
      "source": [
        "# **Step 3: Load the Data into Python**\n",
        "\n",
        "We are going to load our three datasets into Python as dataframes so that we can easily filter and manipulate the data.\n",
        "\n",
        "In order to do this, we will be using the `pd.read_csv()` function. It is important that you know *exactly* where the files are stored in your Google Drive, as folder names must be included in the file path. For example, my files are stored in a folder named \"ENGL 105: Unit 3,\" so I will include that when I run my code.\n",
        "\n",
        "To load your datasets, run the following code:"
      ],
      "metadata": {
        "id": "7j1xT2ZR8stx"
      }
    },
    {
      "cell_type": "code",
      "source": [
        "expression_df = pd.read_csv('/content/gdrive/MyDrive/ENGL 105: Unit 3/ABA_expression.csv', index_col=0)\n",
        "structures_df = pd.read_csv('/content/gdrive/MyDrive/ENGL 105: Unit 3/ABA_structures.csv')\n",
        "genes_df = pd.read_csv('/content/gdrive/MyDrive/ENGL 105: Unit 3/ABA_genes.csv')"
      ],
      "metadata": {
        "id": "xn2N4Kew-LVz"
      },
      "execution_count": null,
      "outputs": []
    },
    {
      "cell_type": "markdown",
      "source": [
        "Now, to confirm that you loaded your datasets correctly, we will utilize the `.head()` function to preview the first 5 rows of each dataframe.\n",
        "\n",
        "Run the following code to ensure that you loaded your data properly:"
      ],
      "metadata": {
        "id": "bQd7Qj2R_JcC"
      }
    },
    {
      "cell_type": "code",
      "source": [
        "print(\"Expression Data:\")\n",
        "print(expression_df.head())\n",
        "\n",
        "print(\"\\nStructures Data:\")\n",
        "print(structures_df.head())\n",
        "\n",
        "print(\"\\nGenes Data:\")\n",
        "print(genes_df.head())"
      ],
      "metadata": {
        "colab": {
          "base_uri": "https://localhost:8080/"
        },
        "id": "jLHoeZDE_UoT",
        "outputId": "9bc77d66-7366-4a9f-bba6-422b9e91dd5c"
      },
      "execution_count": null,
      "outputs": [
        {
          "output_type": "stream",
          "name": "stdout",
          "text": [
            "Expression Data:\n",
            "          0.951206  2.42347  0.239863  4.62837   11.7279  5.24365    23.667  \\\n",
            "0.513941                                                                      \n",
            "0.071430  9.386910  3.43439  0.482486  3.16590  19.28580  2.48365  27.12040   \n",
            "NaN            NaN      NaN       NaN      NaN       NaN      NaN       NaN   \n",
            "0.314675  0.703189  2.64723  1.080480  4.72685  11.28940  3.69585  18.70220   \n",
            "NaN            NaN      NaN       NaN      NaN       NaN      NaN       NaN   \n",
            "0.509998  0.162417  5.19324  0.164435  2.95629   8.92439  1.75076   9.33423   \n",
            "\n",
            "          0.0367014  4.92416  0.26645  ...  0.606783  3.12378    0.1101  \\\n",
            "0.513941                               ...                                \n",
            "0.071430   0.039502  2.87590  1.11642  ...  0.468842  7.75779  0.012348   \n",
            "NaN             NaN      NaN      NaN  ...       NaN      NaN       NaN   \n",
            "0.314675   0.164630  3.23008  1.41935  ...  1.043950  2.49682  0.101512   \n",
            "NaN             NaN      NaN      NaN  ...       NaN      NaN       NaN   \n",
            "0.509998   0.431096  1.92206  1.74823  ...  0.919867  3.78635  0.204587   \n",
            "\n",
            "          0.0780071  0.0608947  14.7068  0.301646.1  0.762162  3.86964  \\\n",
            "0.513941                                                                 \n",
            "0.071430   0.005304   0.083084  22.7799    0.387860   1.82019  11.8769   \n",
            "NaN             NaN        NaN      NaN         NaN       NaN      NaN   \n",
            "0.314675   0.219477   0.046463  19.9212    0.401544   2.13993   3.1878   \n",
            "NaN             NaN        NaN      NaN         NaN       NaN      NaN   \n",
            "0.509998   0.209872   0.027735  17.9475    0.376591   1.09379   6.6122   \n",
            "\n",
            "           15.7175  \n",
            "0.513941            \n",
            "0.071430  15.45370  \n",
            "NaN            NaN  \n",
            "0.314675   8.98521  \n",
            "NaN            NaN  \n",
            "0.509998   1.72290  \n",
            "\n",
            "[5 rows x 3317 columns]\n",
            "\n",
            "Structures Data:\n",
            "   id  acronym                                         name  \\\n",
            "0   1      TMv       Tuberomammillary nucleus, ventral part   \n",
            "1   2  SSp-m6b  Primary somatosensory area, mouth, layer 6b   \n",
            "2   3      sec                            secondary fissure   \n",
            "3   4       IC                          Inferior colliculus   \n",
            "4   6      int                             internal capsule   \n",
            "\n",
            "   parent_structure_id color_hex_triplet  \n",
            "0                557.0            FF4C3E  \n",
            "1                345.0            188064  \n",
            "2               1040.0            AAAAAA  \n",
            "3                339.0            FF7AFF  \n",
            "4                784.0            CCCCCC  \n",
            "\n",
            "Genes Data:\n",
            "      id acronym                                               name  entrez_id\n",
            "0  22175   Wnt5a  wingless-type MMTV integration site family, me...    22418.0\n",
            "1  70018    Mal2              mal, T cell differentiation protein 2   105853.0\n",
            "2  11803    Bag1                       BCL2-associated athanogene 1    12017.0\n",
            "3  84848  Cnksr3                              Cnksr family member 3   215748.0\n",
            "4  12488     Cit                                             citron    12704.0\n"
          ]
        }
      ]
    },
    {
      "cell_type": "markdown",
      "source": [
        "If you run into an error here, go back and double-check your file paths in Google Drive!\n",
        "\n",
        "Now, we are ready to move onto the next step, finding the BDNF gene and pulling out out its data."
      ],
      "metadata": {
        "id": "0Q-fxG94AsLV"
      }
    },
    {
      "cell_type": "markdown",
      "source": [
        "# **Step 4: Filter the Data for BDNF Gene Expression**\n",
        "\n",
        "This is where the process can get complicated or confusing, so here is a brief outline of what we are trying to accomplish in this step:\n",
        "\n",
        "1.   Find the index of the BDNF gene in our gene list.\n",
        "2.   Extract the BDNF expression data.\n",
        "3.   Add the names of the corresponding brain structures.\n",
        "4.   Create a new dataframe with the the names of the brain structures (labels) and our expression data (values).\n",
        "5.   Preview the data to make sure that our new dataframe looks correct!\n",
        "\n",
        "## **Find the Index of the BDNF Gene**\n",
        "\n",
        "In our gene dataframe, each different gene has its own position, or index. In order to compile our focused subset of the gene expression data, we need to know the index of the BDNF gene. This way, we can find its expression data in the main file easily.\n",
        "\n",
        "To find the index of the BDNF gene, run the following code:\n",
        "\n"
      ],
      "metadata": {
        "id": "KY6tvOHBBF2_"
      }
    },
    {
      "cell_type": "code",
      "source": [
        "bdnf_index = genes_df[genes_df['acronym'] == 'Bdnf'].index[0]"
      ],
      "metadata": {
        "id": "eJaT9nobFV4E"
      },
      "execution_count": null,
      "outputs": []
    },
    {
      "cell_type": "markdown",
      "source": [
        "## **Extract BDNF Expression Data**\n",
        "Now, that we have found the index of the BDNF gene, we know where its expression data will be located. We want to \"pull out\" all of the rows under the column that is located at this index. This will give us our expression values. To do this, we are going to use the `.iloc` function.\n",
        "\n",
        "To extract the BDNF expression data, run the following code:"
      ],
      "metadata": {
        "id": "MGCv0DsLF_TK"
      }
    },
    {
      "cell_type": "code",
      "source": [
        "bdnf_expression = expression_df.iloc[:, bdnf_index]\n"
      ],
      "metadata": {
        "id": "LYhd0LS2HEvB"
      },
      "execution_count": null,
      "outputs": []
    },
    {
      "cell_type": "markdown",
      "source": [
        "## **Add Brain Regions**\n",
        "All we have right now is numerical values. In order to complete our new dataframe, we will need to replace the row numbers with the names of the corresponding brain structure.\n",
        "\n",
        "However, there is an unexpected error that we have run into here. The lengths of `bdnf_expression` and `structures_df` do not match. The former has 1298 rows, while the latter has 1299 rows. The issue is that you cannot had 1299 labels to only 1298 numbers; they need to match exactly in length.\n",
        "\n",
        "To fix this issue we can drop the extra row in `structures_df` so that the two have the same number of rows!\n",
        "\n",
        "To drop the extra row and add brain region labels to our data, run the following code:"
      ],
      "metadata": {
        "id": "QOe9csUYHQg4"
      }
    },
    {
      "cell_type": "code",
      "source": [
        "# Fixes the issue:\n",
        "structures_df = structures_df.iloc[:-1]\n",
        "# Adds the labels:\n",
        "bdnf_expression.index = structures_df['name']"
      ],
      "metadata": {
        "id": "MssVhHHOJWP-"
      },
      "execution_count": null,
      "outputs": []
    },
    {
      "cell_type": "markdown",
      "source": [
        "## **Create New Dataframe**\n",
        "Now that we have our brain region labels and our BDNF expression values, we want to put them together into a new dataframe. To do this, we are going to use the `pd.Dataframe` function to reformat our data.\n",
        "\n",
        "To create our new dataframe, run the following code:\n"
      ],
      "metadata": {
        "id": "kWC9bTJgKjzI"
      }
    },
    {
      "cell_type": "code",
      "source": [
        "bdnf_df = pd.DataFrame({'Region': bdnf_expression.index,'BDNF_Expression': bdnf_expression.values})\n"
      ],
      "metadata": {
        "id": "_Ad6uQL7LvE3"
      },
      "execution_count": null,
      "outputs": []
    },
    {
      "cell_type": "markdown",
      "source": [
        "## **Preview the Data**\n",
        "Now, we are going to use the `.head()` function again to preview our dataset and make sure that everything looks good!\n",
        "\n",
        "Run the following code to quickly check the new dataset:"
      ],
      "metadata": {
        "id": "1MU1cjVNL440"
      }
    },
    {
      "cell_type": "code",
      "source": [
        "bdnf_df.head()\n"
      ],
      "metadata": {
        "colab": {
          "base_uri": "https://localhost:8080/",
          "height": 206
        },
        "id": "SCx_jEjSMRMH",
        "outputId": "eb25d64e-9313-4fc3-e251-2872ef305afe"
      },
      "execution_count": null,
      "outputs": [
        {
          "output_type": "execute_result",
          "data": {
            "text/plain": [
              "                                        Region  BDNF_Expression\n",
              "0       Tuberomammillary nucleus, ventral part         0.221836\n",
              "1  Primary somatosensory area, mouth, layer 6b              NaN\n",
              "2                            secondary fissure         2.180970\n",
              "3                          Inferior colliculus              NaN\n",
              "4                             internal capsule         1.968290"
            ],
            "text/html": [
              "\n",
              "  <div id=\"df-dfa6c1bd-f828-4db7-a6ae-c8ae2ae05df4\" class=\"colab-df-container\">\n",
              "    <div>\n",
              "<style scoped>\n",
              "    .dataframe tbody tr th:only-of-type {\n",
              "        vertical-align: middle;\n",
              "    }\n",
              "\n",
              "    .dataframe tbody tr th {\n",
              "        vertical-align: top;\n",
              "    }\n",
              "\n",
              "    .dataframe thead th {\n",
              "        text-align: right;\n",
              "    }\n",
              "</style>\n",
              "<table border=\"1\" class=\"dataframe\">\n",
              "  <thead>\n",
              "    <tr style=\"text-align: right;\">\n",
              "      <th></th>\n",
              "      <th>Region</th>\n",
              "      <th>BDNF_Expression</th>\n",
              "    </tr>\n",
              "  </thead>\n",
              "  <tbody>\n",
              "    <tr>\n",
              "      <th>0</th>\n",
              "      <td>Tuberomammillary nucleus, ventral part</td>\n",
              "      <td>0.221836</td>\n",
              "    </tr>\n",
              "    <tr>\n",
              "      <th>1</th>\n",
              "      <td>Primary somatosensory area, mouth, layer 6b</td>\n",
              "      <td>NaN</td>\n",
              "    </tr>\n",
              "    <tr>\n",
              "      <th>2</th>\n",
              "      <td>secondary fissure</td>\n",
              "      <td>2.180970</td>\n",
              "    </tr>\n",
              "    <tr>\n",
              "      <th>3</th>\n",
              "      <td>Inferior colliculus</td>\n",
              "      <td>NaN</td>\n",
              "    </tr>\n",
              "    <tr>\n",
              "      <th>4</th>\n",
              "      <td>internal capsule</td>\n",
              "      <td>1.968290</td>\n",
              "    </tr>\n",
              "  </tbody>\n",
              "</table>\n",
              "</div>\n",
              "    <div class=\"colab-df-buttons\">\n",
              "\n",
              "  <div class=\"colab-df-container\">\n",
              "    <button class=\"colab-df-convert\" onclick=\"convertToInteractive('df-dfa6c1bd-f828-4db7-a6ae-c8ae2ae05df4')\"\n",
              "            title=\"Convert this dataframe to an interactive table.\"\n",
              "            style=\"display:none;\">\n",
              "\n",
              "  <svg xmlns=\"http://www.w3.org/2000/svg\" height=\"24px\" viewBox=\"0 -960 960 960\">\n",
              "    <path d=\"M120-120v-720h720v720H120Zm60-500h600v-160H180v160Zm220 220h160v-160H400v160Zm0 220h160v-160H400v160ZM180-400h160v-160H180v160Zm440 0h160v-160H620v160ZM180-180h160v-160H180v160Zm440 0h160v-160H620v160Z\"/>\n",
              "  </svg>\n",
              "    </button>\n",
              "\n",
              "  <style>\n",
              "    .colab-df-container {\n",
              "      display:flex;\n",
              "      gap: 12px;\n",
              "    }\n",
              "\n",
              "    .colab-df-convert {\n",
              "      background-color: #E8F0FE;\n",
              "      border: none;\n",
              "      border-radius: 50%;\n",
              "      cursor: pointer;\n",
              "      display: none;\n",
              "      fill: #1967D2;\n",
              "      height: 32px;\n",
              "      padding: 0 0 0 0;\n",
              "      width: 32px;\n",
              "    }\n",
              "\n",
              "    .colab-df-convert:hover {\n",
              "      background-color: #E2EBFA;\n",
              "      box-shadow: 0px 1px 2px rgba(60, 64, 67, 0.3), 0px 1px 3px 1px rgba(60, 64, 67, 0.15);\n",
              "      fill: #174EA6;\n",
              "    }\n",
              "\n",
              "    .colab-df-buttons div {\n",
              "      margin-bottom: 4px;\n",
              "    }\n",
              "\n",
              "    [theme=dark] .colab-df-convert {\n",
              "      background-color: #3B4455;\n",
              "      fill: #D2E3FC;\n",
              "    }\n",
              "\n",
              "    [theme=dark] .colab-df-convert:hover {\n",
              "      background-color: #434B5C;\n",
              "      box-shadow: 0px 1px 3px 1px rgba(0, 0, 0, 0.15);\n",
              "      filter: drop-shadow(0px 1px 2px rgba(0, 0, 0, 0.3));\n",
              "      fill: #FFFFFF;\n",
              "    }\n",
              "  </style>\n",
              "\n",
              "    <script>\n",
              "      const buttonEl =\n",
              "        document.querySelector('#df-dfa6c1bd-f828-4db7-a6ae-c8ae2ae05df4 button.colab-df-convert');\n",
              "      buttonEl.style.display =\n",
              "        google.colab.kernel.accessAllowed ? 'block' : 'none';\n",
              "\n",
              "      async function convertToInteractive(key) {\n",
              "        const element = document.querySelector('#df-dfa6c1bd-f828-4db7-a6ae-c8ae2ae05df4');\n",
              "        const dataTable =\n",
              "          await google.colab.kernel.invokeFunction('convertToInteractive',\n",
              "                                                    [key], {});\n",
              "        if (!dataTable) return;\n",
              "\n",
              "        const docLinkHtml = 'Like what you see? Visit the ' +\n",
              "          '<a target=\"_blank\" href=https://colab.research.google.com/notebooks/data_table.ipynb>data table notebook</a>'\n",
              "          + ' to learn more about interactive tables.';\n",
              "        element.innerHTML = '';\n",
              "        dataTable['output_type'] = 'display_data';\n",
              "        await google.colab.output.renderOutput(dataTable, element);\n",
              "        const docLink = document.createElement('div');\n",
              "        docLink.innerHTML = docLinkHtml;\n",
              "        element.appendChild(docLink);\n",
              "      }\n",
              "    </script>\n",
              "  </div>\n",
              "\n",
              "\n",
              "<div id=\"df-6cb770eb-7885-4e11-a1f2-414541d76e08\">\n",
              "  <button class=\"colab-df-quickchart\" onclick=\"quickchart('df-6cb770eb-7885-4e11-a1f2-414541d76e08')\"\n",
              "            title=\"Suggest charts\"\n",
              "            style=\"display:none;\">\n",
              "\n",
              "<svg xmlns=\"http://www.w3.org/2000/svg\" height=\"24px\"viewBox=\"0 0 24 24\"\n",
              "     width=\"24px\">\n",
              "    <g>\n",
              "        <path d=\"M19 3H5c-1.1 0-2 .9-2 2v14c0 1.1.9 2 2 2h14c1.1 0 2-.9 2-2V5c0-1.1-.9-2-2-2zM9 17H7v-7h2v7zm4 0h-2V7h2v10zm4 0h-2v-4h2v4z\"/>\n",
              "    </g>\n",
              "</svg>\n",
              "  </button>\n",
              "\n",
              "<style>\n",
              "  .colab-df-quickchart {\n",
              "      --bg-color: #E8F0FE;\n",
              "      --fill-color: #1967D2;\n",
              "      --hover-bg-color: #E2EBFA;\n",
              "      --hover-fill-color: #174EA6;\n",
              "      --disabled-fill-color: #AAA;\n",
              "      --disabled-bg-color: #DDD;\n",
              "  }\n",
              "\n",
              "  [theme=dark] .colab-df-quickchart {\n",
              "      --bg-color: #3B4455;\n",
              "      --fill-color: #D2E3FC;\n",
              "      --hover-bg-color: #434B5C;\n",
              "      --hover-fill-color: #FFFFFF;\n",
              "      --disabled-bg-color: #3B4455;\n",
              "      --disabled-fill-color: #666;\n",
              "  }\n",
              "\n",
              "  .colab-df-quickchart {\n",
              "    background-color: var(--bg-color);\n",
              "    border: none;\n",
              "    border-radius: 50%;\n",
              "    cursor: pointer;\n",
              "    display: none;\n",
              "    fill: var(--fill-color);\n",
              "    height: 32px;\n",
              "    padding: 0;\n",
              "    width: 32px;\n",
              "  }\n",
              "\n",
              "  .colab-df-quickchart:hover {\n",
              "    background-color: var(--hover-bg-color);\n",
              "    box-shadow: 0 1px 2px rgba(60, 64, 67, 0.3), 0 1px 3px 1px rgba(60, 64, 67, 0.15);\n",
              "    fill: var(--button-hover-fill-color);\n",
              "  }\n",
              "\n",
              "  .colab-df-quickchart-complete:disabled,\n",
              "  .colab-df-quickchart-complete:disabled:hover {\n",
              "    background-color: var(--disabled-bg-color);\n",
              "    fill: var(--disabled-fill-color);\n",
              "    box-shadow: none;\n",
              "  }\n",
              "\n",
              "  .colab-df-spinner {\n",
              "    border: 2px solid var(--fill-color);\n",
              "    border-color: transparent;\n",
              "    border-bottom-color: var(--fill-color);\n",
              "    animation:\n",
              "      spin 1s steps(1) infinite;\n",
              "  }\n",
              "\n",
              "  @keyframes spin {\n",
              "    0% {\n",
              "      border-color: transparent;\n",
              "      border-bottom-color: var(--fill-color);\n",
              "      border-left-color: var(--fill-color);\n",
              "    }\n",
              "    20% {\n",
              "      border-color: transparent;\n",
              "      border-left-color: var(--fill-color);\n",
              "      border-top-color: var(--fill-color);\n",
              "    }\n",
              "    30% {\n",
              "      border-color: transparent;\n",
              "      border-left-color: var(--fill-color);\n",
              "      border-top-color: var(--fill-color);\n",
              "      border-right-color: var(--fill-color);\n",
              "    }\n",
              "    40% {\n",
              "      border-color: transparent;\n",
              "      border-right-color: var(--fill-color);\n",
              "      border-top-color: var(--fill-color);\n",
              "    }\n",
              "    60% {\n",
              "      border-color: transparent;\n",
              "      border-right-color: var(--fill-color);\n",
              "    }\n",
              "    80% {\n",
              "      border-color: transparent;\n",
              "      border-right-color: var(--fill-color);\n",
              "      border-bottom-color: var(--fill-color);\n",
              "    }\n",
              "    90% {\n",
              "      border-color: transparent;\n",
              "      border-bottom-color: var(--fill-color);\n",
              "    }\n",
              "  }\n",
              "</style>\n",
              "\n",
              "  <script>\n",
              "    async function quickchart(key) {\n",
              "      const quickchartButtonEl =\n",
              "        document.querySelector('#' + key + ' button');\n",
              "      quickchartButtonEl.disabled = true;  // To prevent multiple clicks.\n",
              "      quickchartButtonEl.classList.add('colab-df-spinner');\n",
              "      try {\n",
              "        const charts = await google.colab.kernel.invokeFunction(\n",
              "            'suggestCharts', [key], {});\n",
              "      } catch (error) {\n",
              "        console.error('Error during call to suggestCharts:', error);\n",
              "      }\n",
              "      quickchartButtonEl.classList.remove('colab-df-spinner');\n",
              "      quickchartButtonEl.classList.add('colab-df-quickchart-complete');\n",
              "    }\n",
              "    (() => {\n",
              "      let quickchartButtonEl =\n",
              "        document.querySelector('#df-6cb770eb-7885-4e11-a1f2-414541d76e08 button');\n",
              "      quickchartButtonEl.style.display =\n",
              "        google.colab.kernel.accessAllowed ? 'block' : 'none';\n",
              "    })();\n",
              "  </script>\n",
              "</div>\n",
              "\n",
              "    </div>\n",
              "  </div>\n"
            ],
            "application/vnd.google.colaboratory.intrinsic+json": {
              "type": "dataframe",
              "variable_name": "bdnf_df",
              "summary": "{\n  \"name\": \"bdnf_df\",\n  \"rows\": 1298,\n  \"fields\": [\n    {\n      \"column\": \"Region\",\n      \"properties\": {\n        \"dtype\": \"string\",\n        \"num_unique_values\": 1298,\n        \"samples\": [\n          \"Primary auditory area, layer 6b\",\n          \"Taenia tecta\",\n          \"Lobule II, granular layer\"\n        ],\n        \"semantic_type\": \"\",\n        \"description\": \"\"\n      }\n    },\n    {\n      \"column\": \"BDNF_Expression\",\n      \"properties\": {\n        \"dtype\": \"number\",\n        \"std\": 1.098789695767359,\n        \"min\": 0.189749,\n        \"max\": 11.1876,\n        \"num_unique_values\": 834,\n        \"samples\": [\n          2.10591,\n          1.06998,\n          1.24148\n        ],\n        \"semantic_type\": \"\",\n        \"description\": \"\"\n      }\n    }\n  ]\n}"
            }
          },
          "metadata": {},
          "execution_count": 16
        }
      ]
    },
    {
      "cell_type": "markdown",
      "source": [
        "If your dataset does not look right at this point, that is okay! Real data manipulation can be messy and often takes multiple attempts. Here are some tips to help you troubleshoot what might be wrong:\n",
        "\n",
        "1.   Did you correctly identify the BDNF gene index?\n",
        "2.   Did you verify that the lengths of your gene expression data and your brain region labels match?\n",
        "3.   If not, did you handle the extra rows?\n",
        "\n",
        "Rerun earlier steps in the procedure and preview your data again using the `.head()` function until your dataset looks correct.\n",
        "\n"
      ],
      "metadata": {
        "id": "Yw1epTNSMkfv"
      }
    },
    {
      "cell_type": "markdown",
      "source": [
        "# **Step 5: Analysis & Cleaning**\n",
        "Before we can export our new dataset, we need to check for any missing values (NaNs) and remove them. This way, our finalized dataset is fully ready for future scientific analysis.\n",
        "\n",
        "To check for and remove missing values, run the following code:\n"
      ],
      "metadata": {
        "id": "J9VyoZQUN8j5"
      }
    },
    {
      "cell_type": "code",
      "source": [
        "# Check for missing values:\n",
        "print(\"Missing values before cleaning:\")\n",
        "print(bdnf_df.isnull().sum())\n",
        "\n",
        "# Drop any rows with missing values, if any:\n",
        "bdnf_df = bdnf_df.dropna()\n",
        "\n",
        "# Confirm that missing values are gone:\n",
        "print(\"Missing values after cleaning:\")\n",
        "print(bdnf_df.isnull().sum())\n",
        "\n",
        "# Preview final, cleaned dataset:\n",
        "bdnf_df.head()\n"
      ],
      "metadata": {
        "colab": {
          "base_uri": "https://localhost:8080/",
          "height": 349
        },
        "id": "XbVeKWW6O7dZ",
        "outputId": "fcdf4ec2-d2fa-474c-c792-531cf8626c7a"
      },
      "execution_count": null,
      "outputs": [
        {
          "output_type": "stream",
          "name": "stdout",
          "text": [
            "Missing values before cleaning:\n",
            "Region               0\n",
            "BDNF_Expression    456\n",
            "dtype: int64\n",
            "Missing values after cleaning:\n",
            "Region             0\n",
            "BDNF_Expression    0\n",
            "dtype: int64\n"
          ]
        },
        {
          "output_type": "execute_result",
          "data": {
            "text/plain": [
              "                                        Region  BDNF_Expression\n",
              "0       Tuberomammillary nucleus, ventral part         0.221836\n",
              "2                            secondary fissure         2.180970\n",
              "4                             internal capsule         1.968290\n",
              "5  Principal sensory nucleus of the trigeminal         1.473770\n",
              "6                Basic cell groups and regions         1.272210"
            ],
            "text/html": [
              "\n",
              "  <div id=\"df-4b3d9ac7-b291-4bca-ac77-bebec14b6882\" class=\"colab-df-container\">\n",
              "    <div>\n",
              "<style scoped>\n",
              "    .dataframe tbody tr th:only-of-type {\n",
              "        vertical-align: middle;\n",
              "    }\n",
              "\n",
              "    .dataframe tbody tr th {\n",
              "        vertical-align: top;\n",
              "    }\n",
              "\n",
              "    .dataframe thead th {\n",
              "        text-align: right;\n",
              "    }\n",
              "</style>\n",
              "<table border=\"1\" class=\"dataframe\">\n",
              "  <thead>\n",
              "    <tr style=\"text-align: right;\">\n",
              "      <th></th>\n",
              "      <th>Region</th>\n",
              "      <th>BDNF_Expression</th>\n",
              "    </tr>\n",
              "  </thead>\n",
              "  <tbody>\n",
              "    <tr>\n",
              "      <th>0</th>\n",
              "      <td>Tuberomammillary nucleus, ventral part</td>\n",
              "      <td>0.221836</td>\n",
              "    </tr>\n",
              "    <tr>\n",
              "      <th>2</th>\n",
              "      <td>secondary fissure</td>\n",
              "      <td>2.180970</td>\n",
              "    </tr>\n",
              "    <tr>\n",
              "      <th>4</th>\n",
              "      <td>internal capsule</td>\n",
              "      <td>1.968290</td>\n",
              "    </tr>\n",
              "    <tr>\n",
              "      <th>5</th>\n",
              "      <td>Principal sensory nucleus of the trigeminal</td>\n",
              "      <td>1.473770</td>\n",
              "    </tr>\n",
              "    <tr>\n",
              "      <th>6</th>\n",
              "      <td>Basic cell groups and regions</td>\n",
              "      <td>1.272210</td>\n",
              "    </tr>\n",
              "  </tbody>\n",
              "</table>\n",
              "</div>\n",
              "    <div class=\"colab-df-buttons\">\n",
              "\n",
              "  <div class=\"colab-df-container\">\n",
              "    <button class=\"colab-df-convert\" onclick=\"convertToInteractive('df-4b3d9ac7-b291-4bca-ac77-bebec14b6882')\"\n",
              "            title=\"Convert this dataframe to an interactive table.\"\n",
              "            style=\"display:none;\">\n",
              "\n",
              "  <svg xmlns=\"http://www.w3.org/2000/svg\" height=\"24px\" viewBox=\"0 -960 960 960\">\n",
              "    <path d=\"M120-120v-720h720v720H120Zm60-500h600v-160H180v160Zm220 220h160v-160H400v160Zm0 220h160v-160H400v160ZM180-400h160v-160H180v160Zm440 0h160v-160H620v160ZM180-180h160v-160H180v160Zm440 0h160v-160H620v160Z\"/>\n",
              "  </svg>\n",
              "    </button>\n",
              "\n",
              "  <style>\n",
              "    .colab-df-container {\n",
              "      display:flex;\n",
              "      gap: 12px;\n",
              "    }\n",
              "\n",
              "    .colab-df-convert {\n",
              "      background-color: #E8F0FE;\n",
              "      border: none;\n",
              "      border-radius: 50%;\n",
              "      cursor: pointer;\n",
              "      display: none;\n",
              "      fill: #1967D2;\n",
              "      height: 32px;\n",
              "      padding: 0 0 0 0;\n",
              "      width: 32px;\n",
              "    }\n",
              "\n",
              "    .colab-df-convert:hover {\n",
              "      background-color: #E2EBFA;\n",
              "      box-shadow: 0px 1px 2px rgba(60, 64, 67, 0.3), 0px 1px 3px 1px rgba(60, 64, 67, 0.15);\n",
              "      fill: #174EA6;\n",
              "    }\n",
              "\n",
              "    .colab-df-buttons div {\n",
              "      margin-bottom: 4px;\n",
              "    }\n",
              "\n",
              "    [theme=dark] .colab-df-convert {\n",
              "      background-color: #3B4455;\n",
              "      fill: #D2E3FC;\n",
              "    }\n",
              "\n",
              "    [theme=dark] .colab-df-convert:hover {\n",
              "      background-color: #434B5C;\n",
              "      box-shadow: 0px 1px 3px 1px rgba(0, 0, 0, 0.15);\n",
              "      filter: drop-shadow(0px 1px 2px rgba(0, 0, 0, 0.3));\n",
              "      fill: #FFFFFF;\n",
              "    }\n",
              "  </style>\n",
              "\n",
              "    <script>\n",
              "      const buttonEl =\n",
              "        document.querySelector('#df-4b3d9ac7-b291-4bca-ac77-bebec14b6882 button.colab-df-convert');\n",
              "      buttonEl.style.display =\n",
              "        google.colab.kernel.accessAllowed ? 'block' : 'none';\n",
              "\n",
              "      async function convertToInteractive(key) {\n",
              "        const element = document.querySelector('#df-4b3d9ac7-b291-4bca-ac77-bebec14b6882');\n",
              "        const dataTable =\n",
              "          await google.colab.kernel.invokeFunction('convertToInteractive',\n",
              "                                                    [key], {});\n",
              "        if (!dataTable) return;\n",
              "\n",
              "        const docLinkHtml = 'Like what you see? Visit the ' +\n",
              "          '<a target=\"_blank\" href=https://colab.research.google.com/notebooks/data_table.ipynb>data table notebook</a>'\n",
              "          + ' to learn more about interactive tables.';\n",
              "        element.innerHTML = '';\n",
              "        dataTable['output_type'] = 'display_data';\n",
              "        await google.colab.output.renderOutput(dataTable, element);\n",
              "        const docLink = document.createElement('div');\n",
              "        docLink.innerHTML = docLinkHtml;\n",
              "        element.appendChild(docLink);\n",
              "      }\n",
              "    </script>\n",
              "  </div>\n",
              "\n",
              "\n",
              "<div id=\"df-e5d807c0-40d4-46bc-a1f6-964d02da1401\">\n",
              "  <button class=\"colab-df-quickchart\" onclick=\"quickchart('df-e5d807c0-40d4-46bc-a1f6-964d02da1401')\"\n",
              "            title=\"Suggest charts\"\n",
              "            style=\"display:none;\">\n",
              "\n",
              "<svg xmlns=\"http://www.w3.org/2000/svg\" height=\"24px\"viewBox=\"0 0 24 24\"\n",
              "     width=\"24px\">\n",
              "    <g>\n",
              "        <path d=\"M19 3H5c-1.1 0-2 .9-2 2v14c0 1.1.9 2 2 2h14c1.1 0 2-.9 2-2V5c0-1.1-.9-2-2-2zM9 17H7v-7h2v7zm4 0h-2V7h2v10zm4 0h-2v-4h2v4z\"/>\n",
              "    </g>\n",
              "</svg>\n",
              "  </button>\n",
              "\n",
              "<style>\n",
              "  .colab-df-quickchart {\n",
              "      --bg-color: #E8F0FE;\n",
              "      --fill-color: #1967D2;\n",
              "      --hover-bg-color: #E2EBFA;\n",
              "      --hover-fill-color: #174EA6;\n",
              "      --disabled-fill-color: #AAA;\n",
              "      --disabled-bg-color: #DDD;\n",
              "  }\n",
              "\n",
              "  [theme=dark] .colab-df-quickchart {\n",
              "      --bg-color: #3B4455;\n",
              "      --fill-color: #D2E3FC;\n",
              "      --hover-bg-color: #434B5C;\n",
              "      --hover-fill-color: #FFFFFF;\n",
              "      --disabled-bg-color: #3B4455;\n",
              "      --disabled-fill-color: #666;\n",
              "  }\n",
              "\n",
              "  .colab-df-quickchart {\n",
              "    background-color: var(--bg-color);\n",
              "    border: none;\n",
              "    border-radius: 50%;\n",
              "    cursor: pointer;\n",
              "    display: none;\n",
              "    fill: var(--fill-color);\n",
              "    height: 32px;\n",
              "    padding: 0;\n",
              "    width: 32px;\n",
              "  }\n",
              "\n",
              "  .colab-df-quickchart:hover {\n",
              "    background-color: var(--hover-bg-color);\n",
              "    box-shadow: 0 1px 2px rgba(60, 64, 67, 0.3), 0 1px 3px 1px rgba(60, 64, 67, 0.15);\n",
              "    fill: var(--button-hover-fill-color);\n",
              "  }\n",
              "\n",
              "  .colab-df-quickchart-complete:disabled,\n",
              "  .colab-df-quickchart-complete:disabled:hover {\n",
              "    background-color: var(--disabled-bg-color);\n",
              "    fill: var(--disabled-fill-color);\n",
              "    box-shadow: none;\n",
              "  }\n",
              "\n",
              "  .colab-df-spinner {\n",
              "    border: 2px solid var(--fill-color);\n",
              "    border-color: transparent;\n",
              "    border-bottom-color: var(--fill-color);\n",
              "    animation:\n",
              "      spin 1s steps(1) infinite;\n",
              "  }\n",
              "\n",
              "  @keyframes spin {\n",
              "    0% {\n",
              "      border-color: transparent;\n",
              "      border-bottom-color: var(--fill-color);\n",
              "      border-left-color: var(--fill-color);\n",
              "    }\n",
              "    20% {\n",
              "      border-color: transparent;\n",
              "      border-left-color: var(--fill-color);\n",
              "      border-top-color: var(--fill-color);\n",
              "    }\n",
              "    30% {\n",
              "      border-color: transparent;\n",
              "      border-left-color: var(--fill-color);\n",
              "      border-top-color: var(--fill-color);\n",
              "      border-right-color: var(--fill-color);\n",
              "    }\n",
              "    40% {\n",
              "      border-color: transparent;\n",
              "      border-right-color: var(--fill-color);\n",
              "      border-top-color: var(--fill-color);\n",
              "    }\n",
              "    60% {\n",
              "      border-color: transparent;\n",
              "      border-right-color: var(--fill-color);\n",
              "    }\n",
              "    80% {\n",
              "      border-color: transparent;\n",
              "      border-right-color: var(--fill-color);\n",
              "      border-bottom-color: var(--fill-color);\n",
              "    }\n",
              "    90% {\n",
              "      border-color: transparent;\n",
              "      border-bottom-color: var(--fill-color);\n",
              "    }\n",
              "  }\n",
              "</style>\n",
              "\n",
              "  <script>\n",
              "    async function quickchart(key) {\n",
              "      const quickchartButtonEl =\n",
              "        document.querySelector('#' + key + ' button');\n",
              "      quickchartButtonEl.disabled = true;  // To prevent multiple clicks.\n",
              "      quickchartButtonEl.classList.add('colab-df-spinner');\n",
              "      try {\n",
              "        const charts = await google.colab.kernel.invokeFunction(\n",
              "            'suggestCharts', [key], {});\n",
              "      } catch (error) {\n",
              "        console.error('Error during call to suggestCharts:', error);\n",
              "      }\n",
              "      quickchartButtonEl.classList.remove('colab-df-spinner');\n",
              "      quickchartButtonEl.classList.add('colab-df-quickchart-complete');\n",
              "    }\n",
              "    (() => {\n",
              "      let quickchartButtonEl =\n",
              "        document.querySelector('#df-e5d807c0-40d4-46bc-a1f6-964d02da1401 button');\n",
              "      quickchartButtonEl.style.display =\n",
              "        google.colab.kernel.accessAllowed ? 'block' : 'none';\n",
              "    })();\n",
              "  </script>\n",
              "</div>\n",
              "\n",
              "    </div>\n",
              "  </div>\n"
            ],
            "application/vnd.google.colaboratory.intrinsic+json": {
              "type": "dataframe",
              "variable_name": "bdnf_df",
              "summary": "{\n  \"name\": \"bdnf_df\",\n  \"rows\": 842,\n  \"fields\": [\n    {\n      \"column\": \"Region\",\n      \"properties\": {\n        \"dtype\": \"string\",\n        \"num_unique_values\": 842,\n        \"samples\": [\n          \"Ventromedial hypothalamic nucleus\",\n          \"Entorhinal area, lateral part, layer 4/5\",\n          \"Retrosplenial area, lateral agranular part\"\n        ],\n        \"semantic_type\": \"\",\n        \"description\": \"\"\n      }\n    },\n    {\n      \"column\": \"BDNF_Expression\",\n      \"properties\": {\n        \"dtype\": \"number\",\n        \"std\": 1.098789695767359,\n        \"min\": 0.189749,\n        \"max\": 11.1876,\n        \"num_unique_values\": 834,\n        \"samples\": [\n          2.10591,\n          1.06998,\n          1.24148\n        ],\n        \"semantic_type\": \"\",\n        \"description\": \"\"\n      }\n    }\n  ]\n}"
            }
          },
          "metadata": {},
          "execution_count": 17
        }
      ]
    },
    {
      "cell_type": "markdown",
      "source": [
        "You'll see that we removed 456 missing values from our new dataset, successfully making sure that it is free of errors for later analysis."
      ],
      "metadata": {
        "id": "ehD6_ncmPULt"
      }
    },
    {
      "cell_type": "markdown",
      "source": [
        "# **Step 6: Export New CSV File**\n",
        "Now that we have successfully created a subset of our gene expression dataset, we will export it as a CSV file to our Google Drive.\n",
        "\n",
        "To export your new dataset, run the following code:\n"
      ],
      "metadata": {
        "id": "4JcHPy-APmBu"
      }
    },
    {
      "cell_type": "code",
      "source": [
        "bdnf_df.to_csv('/content/gdrive/MyDrive/ENGL 105: Unit 3/compiled_BDNF_expression.csv', index=False)\n",
        "print(\"File exported successfully to your Google Drive!\")"
      ],
      "metadata": {
        "colab": {
          "base_uri": "https://localhost:8080/"
        },
        "id": "Tx-ID7C0QSFL",
        "outputId": "82e1ec65-7d1c-46fd-a3c7-c8db82a3bcd7"
      },
      "execution_count": null,
      "outputs": [
        {
          "output_type": "stream",
          "name": "stdout",
          "text": [
            "File exported successfully to your Google Drive!\n"
          ]
        }
      ]
    },
    {
      "cell_type": "markdown",
      "source": [
        "# **Wrap-Up:**\n",
        "\n",
        "Congratulations, you have successfully compiled and analyzed a subset of gene expression data that focuses on the **BDNF** gene!\n",
        "\n",
        "As mentioned earlier, the BDNF gene is responsible for the transcription of the BDNF protein, which plays a critical role in learning and long-term memory formation. On top of this, varying levels of BDNF expression have been linked to mood disorders such as depression and anxiety and even neurodegenerative diseases such as Alzheimer's. The data subset you have just compiled could maybe go on to be used in research that explores how BDNF expression correlates with such conditions, providing us with the potential to better understand, or even predict and treat these neurological and psychiatric disorders."
      ],
      "metadata": {
        "id": "5Kapw4BJQ9er"
      }
    }
  ]
}
